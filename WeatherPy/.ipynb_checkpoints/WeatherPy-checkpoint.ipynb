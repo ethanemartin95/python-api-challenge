{
 "cells": [
  {
   "cell_type": "code",
   "execution_count": 1,
   "metadata": {},
   "outputs": [],
   "source": [
    "def divide_chunks(l, n): \n",
    "      \n",
    "    # looping till length l \n",
    "    for i in range(0, len(l), n):  \n",
    "        yield l[i:i + n] "
   ]
  },
  {
   "cell_type": "markdown",
   "metadata": {},
   "source": [
    "# WeatherPy\n",
    "----\n",
    "\n",
    "#### Note\n",
    "* Instructions have been included for each segment. You do not have to follow them exactly, but they are included to help you think through the steps."
   ]
  },
  {
   "cell_type": "code",
   "execution_count": 2,
   "metadata": {
    "scrolled": true
   },
   "outputs": [],
   "source": [
    "# Dependencies and Setup\n",
    "import matplotlib.pyplot as plt\n",
    "import pandas as pd\n",
    "import numpy as np\n",
    "import requests\n",
    "import time\n",
    "import scipy.stats as st\n",
    "from pprint import pprint\n",
    "from datetime import datetime\n",
    "\n",
    "# Import API key\n",
    "from api_keys import weather_api_key\n",
    "\n",
    "# Incorporated citipy to determine city based on latitude and longitude\n",
    "from citipy import citipy\n",
    "\n",
    "# Output File (CSV)\n",
    "output_data_file = \"output_data/cities.csv\"\n",
    "\n",
    "# Range of latitudes and longitudes\n",
    "lat_range = (-90, 90)\n",
    "lng_range = (-180, 180)"
   ]
  },
  {
   "cell_type": "markdown",
   "metadata": {},
   "source": [
    "## Generate Cities List"
   ]
  },
  {
   "cell_type": "code",
   "execution_count": 3,
   "metadata": {},
   "outputs": [
    {
     "data": {
      "text/plain": [
       "613"
      ]
     },
     "execution_count": 3,
     "metadata": {},
     "output_type": "execute_result"
    }
   ],
   "source": [
    "# List for holding lat_lngs and cities\n",
    "lat_lngs = []\n",
    "cities = []\n",
    "\n",
    "# Create a set of random lat and lng combinations\n",
    "lats = np.random.uniform(low=-90.000, high=90.000, size=1500)\n",
    "lngs = np.random.uniform(low=-180.000, high=180.000, size=1500)\n",
    "lat_lngs = zip(lats, lngs)\n",
    "\n",
    "# Identify nearest city for each lat, lng combination\n",
    "for lat_lng in lat_lngs:\n",
    "    city = citipy.nearest_city(lat_lng[0], lat_lng[1]).city_name\n",
    "    \n",
    "    # If the city is unique, then add it to a our cities list\n",
    "    if city not in cities:\n",
    "        cities.append(city)\n",
    "\n",
    "# Print the city count to confirm sufficient count\n",
    "len(cities)"
   ]
  },
  {
   "cell_type": "markdown",
   "metadata": {},
   "source": [
    "### Perform API Calls\n",
    "* Perform a weather check on each city using a series of successive API calls.\n",
    "* Include a print log of each city as it'sbeing processed (with the city number and city name).\n"
   ]
  },
  {
   "cell_type": "code",
   "execution_count": 4,
   "metadata": {},
   "outputs": [],
   "source": [
    "# ERROR RECORD -> {'cod': '404', 'message': 'city not found'}\n",
    "# ERROR PRINT -> City not found. Skipping...\n",
    "# SUCCESS PRINT -> Processing Record 45 of Set 1 | saint-joseph"
   ]
  },
  {
   "cell_type": "code",
   "execution_count": 5,
   "metadata": {},
   "outputs": [
    {
     "name": "stdout",
     "output_type": "stream",
     "text": [
      "te anau\n",
      "arrecife\n",
      "ahuimanu\n",
      "tazovskiy\n",
      "kruisfontein\n",
      "kasungu\n",
      "ushuaia\n",
      "nizhneyansk\n",
      "avarua\n",
      "yendi\n",
      "saint-francois\n",
      "souillac\n",
      "sabha\n",
      "andarab\n",
      "ponta do sol\n",
      "barentsburg\n",
      "port lincoln\n",
      "butaritari\n",
      "dudinka\n",
      "east london\n",
      "saleaula\n",
      "vaini\n",
      "hondo\n",
      "bluff\n",
      "lagoa\n",
      "norman wells\n",
      "atuona\n",
      "hualmay\n",
      "taoudenni\n",
      "ormara\n",
      "praia da vitoria\n",
      "hoquiam\n",
      "adrar\n",
      "severo-kurilsk\n",
      "nishihara\n",
      "bonavista\n",
      "sentyabrskiy\n",
      "high rock\n",
      "belchatow\n",
      "mizdah\n",
      "contamana\n",
      "fairbanks\n",
      "broome\n",
      "boueni\n",
      "bacuit\n",
      "barrow\n",
      "port blair\n",
      "illoqqortoormiut\n",
      "arraial do cabo\n",
      "mataura\n"
     ]
    }
   ],
   "source": [
    "# Size of Chunks\n",
    "n = 50\n",
    "\n",
    "# Get 2D List of Cities (Chunks of Cities)\n",
    "grouped_cities = list(divide_chunks(cities, n)) \n",
    "\n",
    "# Print first set\n",
    "for city in (grouped_cities[1]):\n",
    "    print(city)"
   ]
  },
  {
   "cell_type": "code",
   "execution_count": 6,
   "metadata": {},
   "outputs": [],
   "source": [
    "city = []\n",
    "cloudiness = []\n",
    "country = []\n",
    "date = []\n",
    "humidity = []\n",
    "lat = []\n",
    "lng = []\n",
    "max_temp = []\n",
    "wind_speed = []"
   ]
  },
  {
   "cell_type": "code",
   "execution_count": 7,
   "metadata": {},
   "outputs": [
    {
     "name": "stdout",
     "output_type": "stream",
     "text": [
      "Beginning Data Retrieval\n",
      "-----------------------------\n",
      "Processing Record 1 of set 1 | ust-maya\n",
      "Processing Record 2 of set 1 | kapaa\n",
      "City not found. Skipping...\n",
      "Processing Record 4 of set 1 | esperance\n",
      "Processing Record 5 of set 1 | lososina\n",
      "Processing Record 6 of set 1 | rincon\n",
      "Processing Record 7 of set 1 | khasan\n",
      "Processing Record 8 of set 1 | jamestown\n",
      "Processing Record 9 of set 1 | hasaki\n",
      "Processing Record 10 of set 1 | wattegama\n",
      "Processing Record 11 of set 1 | hermanus\n",
      "Processing Record 12 of set 1 | honiara\n",
      "Processing Record 13 of set 1 | mahebourg\n",
      "Processing Record 14 of set 1 | ponta delgada\n",
      "Processing Record 15 of set 1 | albany\n",
      "Processing Record 16 of set 1 | punta arenas\n",
      "Processing Record 17 of set 1 | thompson\n",
      "Processing Record 18 of set 1 | tuatapere\n",
      "Processing Record 19 of set 1 | longyearbyen\n",
      "Processing Record 20 of set 1 | morant bay\n",
      "Processing Record 21 of set 1 | puerto ayora\n",
      "Processing Record 22 of set 1 | nikolskoye\n",
      "Processing Record 23 of set 1 | port alfred\n",
      "Processing Record 24 of set 1 | busselton\n",
      "Processing Record 25 of set 1 | saskylakh\n",
      "Processing Record 26 of set 1 | lazaro cardenas\n",
      "Processing Record 27 of set 1 | saint-pierre\n",
      "Processing Record 28 of set 1 | san carlos\n",
      "Processing Record 29 of set 1 | kibondo\n",
      "Processing Record 30 of set 1 | vardo\n",
      "Processing Record 31 of set 1 | rikitea\n",
      "Processing Record 32 of set 1 | hobart\n",
      "Processing Record 33 of set 1 | college\n",
      "Processing Record 34 of set 1 | victoria\n",
      "Processing Record 35 of set 1 | kapit\n",
      "Processing Record 36 of set 1 | sinnamary\n",
      "Processing Record 37 of set 1 | vestmannaeyjar\n",
      "Processing Record 38 of set 1 | tevriz\n",
      "Processing Record 39 of set 1 | bethel\n",
      "Processing Record 40 of set 1 | fairmont\n",
      "Processing Record 41 of set 1 | broken hill\n",
      "Processing Record 42 of set 1 | leningradskiy\n",
      "Processing Record 43 of set 1 | georgetown\n",
      "Processing Record 44 of set 1 | yellowknife\n",
      "Processing Record 45 of set 1 | bambous virieux\n",
      "Processing Record 46 of set 1 | mar del plata\n",
      "Processing Record 47 of set 1 | qaanaaq\n",
      "Processing Record 48 of set 1 | new norfolk\n",
      "Processing Record 49 of set 1 | cape town\n",
      "City not found. Skipping...\n",
      "Processing Record 1 of set 2 | te anau\n",
      "Processing Record 2 of set 2 | arrecife\n",
      "Processing Record 3 of set 2 | ahuimanu\n",
      "Processing Record 4 of set 2 | tazovskiy\n",
      "Processing Record 5 of set 2 | kruisfontein\n",
      "Processing Record 6 of set 2 | kasungu\n",
      "Processing Record 7 of set 2 | ushuaia\n",
      "City not found. Skipping...\n",
      "Processing Record 9 of set 2 | avarua\n",
      "Processing Record 10 of set 2 | yendi\n",
      "Processing Record 11 of set 2 | saint-francois\n",
      "Processing Record 12 of set 2 | souillac\n",
      "Processing Record 13 of set 2 | sabha\n",
      "City not found. Skipping...\n",
      "Processing Record 15 of set 2 | ponta do sol\n",
      "City not found. Skipping...\n",
      "Processing Record 17 of set 2 | port lincoln\n",
      "Processing Record 18 of set 2 | butaritari\n",
      "Processing Record 19 of set 2 | dudinka\n",
      "Processing Record 20 of set 2 | east london\n",
      "City not found. Skipping...\n",
      "Processing Record 22 of set 2 | vaini\n",
      "Processing Record 23 of set 2 | hondo\n",
      "Processing Record 24 of set 2 | bluff\n",
      "Processing Record 25 of set 2 | lagoa\n",
      "Processing Record 26 of set 2 | norman wells\n",
      "Processing Record 27 of set 2 | atuona\n",
      "Processing Record 28 of set 2 | hualmay\n",
      "Processing Record 29 of set 2 | taoudenni\n",
      "Processing Record 30 of set 2 | ormara\n",
      "Processing Record 31 of set 2 | praia da vitoria\n",
      "Processing Record 32 of set 2 | hoquiam\n",
      "Processing Record 33 of set 2 | adrar\n",
      "Processing Record 34 of set 2 | severo-kurilsk\n",
      "Processing Record 35 of set 2 | nishihara\n",
      "Processing Record 36 of set 2 | bonavista\n",
      "City not found. Skipping...\n",
      "Processing Record 38 of set 2 | high rock\n",
      "Processing Record 39 of set 2 | belchatow\n",
      "Processing Record 40 of set 2 | mizdah\n",
      "Processing Record 41 of set 2 | contamana\n",
      "Processing Record 42 of set 2 | fairbanks\n",
      "Processing Record 43 of set 2 | broome\n",
      "Processing Record 44 of set 2 | boueni\n",
      "City not found. Skipping...\n",
      "Processing Record 46 of set 2 | barrow\n",
      "Processing Record 47 of set 2 | port blair\n",
      "City not found. Skipping...\n",
      "Processing Record 49 of set 2 | arraial do cabo\n",
      "Processing Record 50 of set 2 | mataura\n",
      "Processing Record 1 of set 3 | chokurdakh\n",
      "Processing Record 2 of set 3 | zhangzhou\n",
      "Processing Record 3 of set 3 | guerrero negro\n",
      "Processing Record 4 of set 3 | sao joao da barra\n",
      "Processing Record 5 of set 3 | maniitsoq\n",
      "Processing Record 6 of set 3 | faanui\n",
      "Processing Record 7 of set 3 | san andres\n",
      "Processing Record 8 of set 3 | ausa\n",
      "Processing Record 9 of set 3 | arinos\n",
      "Processing Record 10 of set 3 | edd\n",
      "Processing Record 11 of set 3 | dikson\n",
      "Processing Record 12 of set 3 | mount isa\n",
      "Processing Record 13 of set 3 | graham\n",
      "Processing Record 14 of set 3 | carnarvon\n",
      "Processing Record 15 of set 3 | ridgecrest\n",
      "Processing Record 16 of set 3 | amboise\n",
      "Processing Record 17 of set 3 | bredasdorp\n",
      "Processing Record 18 of set 3 | luena\n",
      "Processing Record 19 of set 3 | camacha\n",
      "Processing Record 20 of set 3 | hjelset\n",
      "Processing Record 21 of set 3 | lebu\n",
      "Processing Record 22 of set 3 | tasiilaq\n",
      "Processing Record 23 of set 3 | srednekolymsk\n",
      "Processing Record 24 of set 3 | eyl\n",
      "Processing Record 25 of set 3 | tessalit\n",
      "Processing Record 26 of set 3 | meulaboh\n",
      "Processing Record 27 of set 3 | deer lake\n",
      "Processing Record 28 of set 3 | smithers\n",
      "Processing Record 29 of set 3 | kungurtug\n",
      "Processing Record 30 of set 3 | pila\n",
      "Processing Record 31 of set 3 | puerto penasco\n",
      "Processing Record 32 of set 3 | namatanai\n",
      "Processing Record 33 of set 3 | nizhneudinsk\n",
      "Processing Record 34 of set 3 | mbini\n",
      "Processing Record 35 of set 3 | hithadhoo\n",
      "Processing Record 36 of set 3 | viedma\n",
      "Processing Record 37 of set 3 | khatanga\n",
      "Processing Record 38 of set 3 | dingle\n",
      "Processing Record 39 of set 3 | progreso\n",
      "Processing Record 40 of set 3 | chajul\n",
      "City not found. Skipping...\n",
      "Processing Record 42 of set 3 | beyla\n",
      "Processing Record 43 of set 3 | yura\n",
      "Processing Record 44 of set 3 | omaruru\n",
      "Processing Record 45 of set 3 | koumac\n",
      "Processing Record 46 of set 3 | chuy\n",
      "Processing Record 47 of set 3 | kohlu\n",
      "City not found. Skipping...\n",
      "Processing Record 49 of set 3 | esik\n",
      "Processing Record 50 of set 3 | ishinomaki\n",
      "Processing Record 1 of set 4 | elko\n",
      "Processing Record 2 of set 4 | ndele\n",
      "Processing Record 3 of set 4 | geraldton\n",
      "Processing Record 4 of set 4 | ketchikan\n",
      "Processing Record 5 of set 4 | salalah\n",
      "Processing Record 6 of set 4 | christchurch\n",
      "Processing Record 7 of set 4 | bengkulu\n",
      "Processing Record 8 of set 4 | forestville\n",
      "Processing Record 9 of set 4 | stokmarknes\n",
      "Processing Record 10 of set 4 | peterhead\n",
      "Processing Record 11 of set 4 | los llanos de aridane\n",
      "Processing Record 12 of set 4 | hilo\n",
      "Processing Record 13 of set 4 | tatawin\n",
      "Processing Record 14 of set 4 | syzran\n",
      "Processing Record 15 of set 4 | airai\n",
      "Processing Record 16 of set 4 | yulara\n",
      "Processing Record 17 of set 4 | alofi\n",
      "City not found. Skipping...\n",
      "Processing Record 19 of set 4 | kununurra\n",
      "Processing Record 20 of set 4 | tuktoyaktuk\n",
      "Processing Record 21 of set 4 | urambo\n",
      "Processing Record 22 of set 4 | port-de-bouc\n",
      "Processing Record 23 of set 4 | le portel\n",
      "Processing Record 24 of set 4 | egvekinot\n",
      "Processing Record 25 of set 4 | provideniya\n",
      "City not found. Skipping...\n",
      "Processing Record 27 of set 4 | gimli\n",
      "Processing Record 28 of set 4 | angoram\n",
      "Processing Record 29 of set 4 | kolvereid\n",
      "Processing Record 30 of set 4 | marsa matruh\n",
      "Processing Record 31 of set 4 | kaitangata\n",
      "Processing Record 32 of set 4 | cabo san lucas\n",
      "Processing Record 33 of set 4 | sao filipe\n",
      "Processing Record 34 of set 4 | walvis bay\n",
      "Processing Record 35 of set 4 | kodiak\n",
      "Processing Record 36 of set 4 | ilulissat\n",
      "Processing Record 37 of set 4 | novobirilyussy\n",
      "Processing Record 38 of set 4 | westerland\n",
      "Processing Record 39 of set 4 | havoysund\n",
      "Processing Record 40 of set 4 | north bend\n",
      "Processing Record 41 of set 4 | deputatskiy\n",
      "Processing Record 42 of set 4 | avera\n",
      "Processing Record 43 of set 4 | portimao\n",
      "Processing Record 44 of set 4 | salyan\n",
      "Processing Record 45 of set 4 | dongning\n",
      "Processing Record 46 of set 4 | youhao\n",
      "Processing Record 47 of set 4 | burns lake\n",
      "Processing Record 48 of set 4 | inirida\n",
      "Processing Record 49 of set 4 | puro\n",
      "Processing Record 50 of set 4 | saint anthony\n",
      "Processing Record 1 of set 5 | little current\n",
      "City not found. Skipping...\n"
     ]
    },
    {
     "name": "stdout",
     "output_type": "stream",
     "text": [
      "Processing Record 3 of set 5 | palmer\n",
      "Processing Record 4 of set 5 | mogok\n",
      "Processing Record 5 of set 5 | pacific grove\n",
      "Processing Record 6 of set 5 | verkh-usugli\n",
      "Processing Record 7 of set 5 | port elizabeth\n",
      "Processing Record 8 of set 5 | opuwo\n",
      "Processing Record 9 of set 5 | simplicio mendes\n",
      "Processing Record 10 of set 5 | iqaluit\n",
      "Processing Record 11 of set 5 | aquidauana\n",
      "City not found. Skipping...\n",
      "Processing Record 13 of set 5 | poronaysk\n",
      "City not found. Skipping...\n",
      "Processing Record 15 of set 5 | ribeira grande\n",
      "Processing Record 16 of set 5 | salinopolis\n",
      "Processing Record 17 of set 5 | sharon\n",
      "Processing Record 18 of set 5 | timra\n",
      "Processing Record 19 of set 5 | portland\n",
      "Processing Record 20 of set 5 | ostrovnoy\n",
      "Processing Record 21 of set 5 | san patricio\n",
      "Processing Record 22 of set 5 | flinders\n",
      "Processing Record 23 of set 5 | aransas pass\n",
      "Processing Record 24 of set 5 | kourou\n",
      "City not found. Skipping...\n",
      "Processing Record 26 of set 5 | berdigestyakh\n",
      "Processing Record 27 of set 5 | cherskiy\n",
      "City not found. Skipping...\n",
      "City not found. Skipping...\n",
      "Processing Record 30 of set 5 | itarema\n",
      "Processing Record 31 of set 5 | yerbogachen\n",
      "Processing Record 32 of set 5 | manuk mangkaw\n",
      "Processing Record 33 of set 5 | nyrob\n",
      "City not found. Skipping...\n",
      "Processing Record 35 of set 5 | upernavik\n",
      "Processing Record 36 of set 5 | sept-iles\n",
      "Processing Record 37 of set 5 | lasa\n",
      "Processing Record 38 of set 5 | timbiqui\n",
      "Processing Record 39 of set 5 | saint-philippe\n",
      "Processing Record 40 of set 5 | clyde river\n",
      "Processing Record 41 of set 5 | cayhagan\n",
      "Processing Record 42 of set 5 | huarmey\n",
      "Processing Record 43 of set 5 | krasnoselkup\n",
      "Processing Record 44 of set 5 | oskarshamn\n",
      "Processing Record 45 of set 5 | evensk\n",
      "Processing Record 46 of set 5 | slave lake\n",
      "City not found. Skipping...\n",
      "Processing Record 48 of set 5 | bathsheba\n",
      "Processing Record 49 of set 5 | general roca\n",
      "Processing Record 50 of set 5 | hervey bay\n",
      "Processing Record 1 of set 6 | gat\n",
      "Processing Record 2 of set 6 | acapulco\n",
      "Processing Record 3 of set 6 | jalu\n",
      "Processing Record 4 of set 6 | marawi\n",
      "Processing Record 5 of set 6 | medicine hat\n",
      "Processing Record 6 of set 6 | tambura\n",
      "Processing Record 7 of set 6 | tiksi\n",
      "Processing Record 8 of set 6 | kidal\n",
      "City not found. Skipping...\n",
      "Processing Record 10 of set 6 | cockburn town\n",
      "Processing Record 11 of set 6 | mafinga\n",
      "Processing Record 12 of set 6 | mount gambier\n",
      "City not found. Skipping...\n",
      "Processing Record 14 of set 6 | nioro\n",
      "Processing Record 15 of set 6 | zyryanka\n",
      "Processing Record 16 of set 6 | black river\n",
      "Processing Record 17 of set 6 | mana\n",
      "Processing Record 18 of set 6 | roseburg\n",
      "Processing Record 19 of set 6 | ugoofaaru\n",
      "Processing Record 20 of set 6 | gizo\n",
      "Processing Record 21 of set 6 | richards bay\n",
      "Processing Record 22 of set 6 | rawson\n",
      "Processing Record 23 of set 6 | yeppoon\n",
      "Processing Record 24 of set 6 | pisco\n",
      "Processing Record 25 of set 6 | prata\n",
      "Processing Record 26 of set 6 | ahipara\n",
      "Processing Record 27 of set 6 | havre-saint-pierre\n",
      "Processing Record 28 of set 6 | berlevag\n",
      "Processing Record 29 of set 6 | muroto\n",
      "Processing Record 30 of set 6 | tolaga bay\n",
      "Processing Record 31 of set 6 | pangnirtung\n",
      "Processing Record 32 of set 6 | laguna\n",
      "Processing Record 33 of set 6 | jiaonan\n",
      "Processing Record 34 of set 6 | lavrentiya\n",
      "City not found. Skipping...\n",
      "Processing Record 36 of set 6 | iroquois falls\n",
      "Processing Record 37 of set 6 | torbay\n",
      "Processing Record 38 of set 6 | indramayu\n",
      "Processing Record 39 of set 6 | karratha\n",
      "Processing Record 40 of set 6 | awbari\n",
      "Processing Record 41 of set 6 | constitucion\n",
      "Processing Record 42 of set 6 | olavarria\n",
      "Processing Record 43 of set 6 | tommot\n",
      "Processing Record 44 of set 6 | mae sai\n",
      "Processing Record 45 of set 6 | alyangula\n",
      "Processing Record 46 of set 6 | saldanha\n",
      "Processing Record 47 of set 6 | taungdwingyi\n",
      "Processing Record 48 of set 6 | hukuntsi\n",
      "Processing Record 49 of set 6 | osakarovka\n",
      "Processing Record 50 of set 6 | vao\n",
      "Processing Record 1 of set 7 | kavieng\n",
      "Processing Record 2 of set 7 | ixtapa\n",
      "City not found. Skipping...\n",
      "Processing Record 4 of set 7 | srikakulam\n",
      "Processing Record 5 of set 7 | xifeng\n",
      "Processing Record 6 of set 7 | faya\n",
      "Processing Record 7 of set 7 | cidreira\n",
      "Processing Record 8 of set 7 | jackson\n",
      "Processing Record 9 of set 7 | arequipa\n",
      "Processing Record 10 of set 7 | yakeshi\n",
      "Processing Record 11 of set 7 | hobyo\n",
      "Processing Record 12 of set 7 | sitka\n",
      "Processing Record 13 of set 7 | llata\n",
      "Processing Record 14 of set 7 | vila velha\n",
      "City not found. Skipping...\n",
      "Processing Record 16 of set 7 | koutiala\n",
      "Processing Record 17 of set 7 | nome\n",
      "Processing Record 18 of set 7 | phalombe\n",
      "Processing Record 19 of set 7 | nantucket\n",
      "Processing Record 20 of set 7 | castro\n",
      "Processing Record 21 of set 7 | muzhi\n",
      "Processing Record 22 of set 7 | olinda\n",
      "Processing Record 23 of set 7 | grand gaube\n",
      "Processing Record 24 of set 7 | namibe\n",
      "Processing Record 25 of set 7 | nouakchott\n",
      "Processing Record 26 of set 7 | adeje\n",
      "Processing Record 27 of set 7 | skeldon\n",
      "Processing Record 28 of set 7 | birjand\n",
      "Processing Record 29 of set 7 | suseni\n",
      "Processing Record 30 of set 7 | tezu\n",
      "Processing Record 31 of set 7 | lelystad\n",
      "Processing Record 32 of set 7 | denpasar\n",
      "Processing Record 33 of set 7 | verkhnyaya inta\n",
      "Processing Record 34 of set 7 | turayf\n",
      "Processing Record 35 of set 7 | vostok\n",
      "Processing Record 36 of set 7 | inhambane\n",
      "City not found. Skipping...\n",
      "City not found. Skipping...\n",
      "Processing Record 39 of set 7 | marshalltown\n",
      "Processing Record 40 of set 7 | roebourne\n",
      "Processing Record 41 of set 7 | quelimane\n",
      "Processing Record 42 of set 7 | hofn\n",
      "Processing Record 43 of set 7 | luderitz\n",
      "Processing Record 44 of set 7 | apache junction\n",
      "Processing Record 45 of set 7 | maragogi\n",
      "Processing Record 46 of set 7 | lure\n",
      "Processing Record 47 of set 7 | yasnyy\n",
      "City not found. Skipping...\n",
      "Processing Record 49 of set 7 | hajnowka\n",
      "City not found. Skipping...\n",
      "Processing Record 1 of set 8 | klyuchi\n",
      "Processing Record 2 of set 8 | mackay\n",
      "Processing Record 3 of set 8 | samarai\n",
      "Processing Record 4 of set 8 | codrington\n",
      "Processing Record 5 of set 8 | kolosovka\n",
      "Processing Record 6 of set 8 | coos bay\n",
      "Processing Record 7 of set 8 | gimbi\n",
      "Processing Record 8 of set 8 | aklavik\n",
      "Processing Record 9 of set 8 | polunochnoye\n",
      "Processing Record 10 of set 8 | mareeba\n",
      "Processing Record 11 of set 8 | nova olinda do norte\n",
      "Processing Record 12 of set 8 | bubaque\n",
      "Processing Record 13 of set 8 | guiglo\n",
      "Processing Record 14 of set 8 | sisimiut\n",
      "Processing Record 15 of set 8 | sangin\n",
      "Processing Record 16 of set 8 | kochinda\n",
      "Processing Record 17 of set 8 | sioux lookout\n",
      "Processing Record 18 of set 8 | shimoda\n",
      "Processing Record 19 of set 8 | kodinsk\n",
      "Processing Record 20 of set 8 | eureka\n",
      "Processing Record 21 of set 8 | nkayi\n",
      "Processing Record 22 of set 8 | pevek\n",
      "Processing Record 23 of set 8 | wad madani\n",
      "Processing Record 24 of set 8 | saint george\n",
      "Processing Record 25 of set 8 | panlaitan\n",
      "Processing Record 26 of set 8 | fortuna\n",
      "Processing Record 27 of set 8 | taltal\n",
      "Processing Record 28 of set 8 | carlisle\n",
      "City not found. Skipping...\n",
      "Processing Record 30 of set 8 | muros\n",
      "Processing Record 31 of set 8 | mehamn\n",
      "Processing Record 32 of set 8 | chernyshevskiy\n",
      "Processing Record 33 of set 8 | khartoum\n",
      "Processing Record 34 of set 8 | igrim\n",
      "Processing Record 35 of set 8 | fortuna foothills\n",
      "Processing Record 36 of set 8 | sorland\n",
      "Processing Record 37 of set 8 | pingliang\n",
      "Processing Record 38 of set 8 | axim\n",
      "Processing Record 39 of set 8 | fort wellington\n",
      "Processing Record 40 of set 8 | karabulak\n",
      "City not found. Skipping...\n",
      "Processing Record 42 of set 8 | cabra\n",
      "Processing Record 43 of set 8 | xunchang\n",
      "Processing Record 44 of set 8 | acarau\n",
      "Processing Record 45 of set 8 | ngatea\n",
      "Processing Record 46 of set 8 | oranjemund\n",
      "Processing Record 47 of set 8 | konstantinovskoye\n",
      "City not found. Skipping...\n",
      "Processing Record 49 of set 8 | petropavlovsk-kamchatskiy\n",
      "Processing Record 50 of set 8 | rabo de peixe\n",
      "Processing Record 1 of set 9 | raghunathpur\n",
      "Processing Record 2 of set 9 | tineo\n",
      "Processing Record 3 of set 9 | jati\n",
      "Processing Record 4 of set 9 | teahupoo\n",
      "Processing Record 5 of set 9 | roma\n",
      "Processing Record 6 of set 9 | cassilandia\n",
      "Processing Record 7 of set 9 | ulladulla\n",
      "Processing Record 8 of set 9 | katherine\n"
     ]
    },
    {
     "name": "stdout",
     "output_type": "stream",
     "text": [
      "Processing Record 9 of set 9 | makakilo city\n",
      "Processing Record 10 of set 9 | san quintin\n",
      "Processing Record 11 of set 9 | payo\n",
      "Processing Record 12 of set 9 | santa cruz cabralia\n",
      "Processing Record 13 of set 9 | kamiiso\n",
      "Processing Record 14 of set 9 | bereznik\n",
      "Processing Record 15 of set 9 | anju\n",
      "Processing Record 16 of set 9 | riohacha\n",
      "Processing Record 17 of set 9 | san jose\n",
      "Processing Record 18 of set 9 | izhma\n",
      "Processing Record 19 of set 9 | pangkalanbuun\n",
      "Processing Record 20 of set 9 | vila franca do campo\n",
      "Processing Record 21 of set 9 | narsaq\n",
      "Processing Record 22 of set 9 | williamsport\n",
      "Processing Record 23 of set 9 | bandrele\n",
      "Processing Record 24 of set 9 | sibolga\n",
      "Processing Record 25 of set 9 | iquique\n",
      "Processing Record 26 of set 9 | bayji\n",
      "Processing Record 27 of set 9 | vidim\n",
      "Processing Record 28 of set 9 | pachino\n",
      "Processing Record 29 of set 9 | svirstroy\n",
      "Processing Record 30 of set 9 | soyo\n",
      "Processing Record 31 of set 9 | soto la marina\n",
      "Processing Record 32 of set 9 | takoradi\n",
      "Processing Record 33 of set 9 | marystown\n",
      "Processing Record 34 of set 9 | agua verde\n",
      "Processing Record 35 of set 9 | shalyhyne\n",
      "Processing Record 36 of set 9 | straumen\n",
      "City not found. Skipping...\n",
      "Processing Record 38 of set 9 | kasempa\n",
      "Processing Record 39 of set 9 | novoagansk\n",
      "Processing Record 40 of set 9 | bremgarten\n",
      "Processing Record 41 of set 9 | grants pass\n",
      "Processing Record 42 of set 9 | okhotsk\n",
      "Processing Record 43 of set 9 | yumen\n",
      "Processing Record 44 of set 9 | kahului\n",
      "Processing Record 45 of set 9 | tornio\n",
      "Processing Record 46 of set 9 | coihaique\n",
      "City not found. Skipping...\n",
      "City not found. Skipping...\n",
      "Processing Record 49 of set 9 | cayenne\n",
      "Processing Record 50 of set 9 | zhuhai\n",
      "Processing Record 1 of set 10 | carballo\n",
      "Processing Record 2 of set 10 | sur\n",
      "Processing Record 3 of set 10 | masuguru\n",
      "Processing Record 4 of set 10 | riverton\n",
      "City not found. Skipping...\n",
      "Processing Record 6 of set 10 | bobrovka\n",
      "Processing Record 7 of set 10 | marzuq\n",
      "Processing Record 8 of set 10 | angoche\n",
      "Processing Record 9 of set 10 | maturin\n",
      "Processing Record 10 of set 10 | skjervoy\n",
      "Processing Record 11 of set 10 | havre\n",
      "Processing Record 12 of set 10 | ambulu\n",
      "Processing Record 13 of set 10 | maldonado\n",
      "Processing Record 14 of set 10 | maningrida\n",
      "Processing Record 15 of set 10 | karlovac\n",
      "Processing Record 16 of set 10 | jumla\n",
      "Processing Record 17 of set 10 | asyut\n",
      "Processing Record 18 of set 10 | touros\n",
      "Processing Record 19 of set 10 | lompoc\n",
      "Processing Record 20 of set 10 | waingapu\n",
      "Processing Record 21 of set 10 | lata\n",
      "Processing Record 22 of set 10 | fangshan\n",
      "Processing Record 23 of set 10 | srivardhan\n",
      "Processing Record 24 of set 10 | bella vista\n",
      "Processing Record 25 of set 10 | baft\n",
      "Processing Record 26 of set 10 | kaniama\n",
      "Processing Record 27 of set 10 | zaton\n",
      "Processing Record 28 of set 10 | marsh harbour\n",
      "Processing Record 29 of set 10 | poum\n",
      "Processing Record 30 of set 10 | carutapera\n",
      "Processing Record 31 of set 10 | andilamena\n",
      "City not found. Skipping...\n",
      "Processing Record 33 of set 10 | katsuura\n",
      "Processing Record 34 of set 10 | lodja\n",
      "Processing Record 35 of set 10 | pandan\n",
      "Processing Record 36 of set 10 | victor harbor\n",
      "Processing Record 37 of set 10 | caravelas\n",
      "Processing Record 38 of set 10 | batagay\n",
      "Processing Record 39 of set 10 | collierville\n",
      "Processing Record 40 of set 10 | ola\n",
      "Processing Record 41 of set 10 | fonte boa\n",
      "Processing Record 42 of set 10 | conselheiro pena\n",
      "Processing Record 43 of set 10 | boissy-saint-leger\n",
      "Processing Record 44 of set 10 | salinas\n",
      "Processing Record 45 of set 10 | totma\n",
      "Processing Record 46 of set 10 | grand island\n",
      "Processing Record 47 of set 10 | matelica\n",
      "Processing Record 48 of set 10 | la ronge\n",
      "Processing Record 49 of set 10 | wahpeton\n",
      "Processing Record 50 of set 10 | tigil\n",
      "Processing Record 1 of set 11 | santo andre\n",
      "Processing Record 2 of set 11 | atar\n",
      "Processing Record 3 of set 11 | cacu\n",
      "Processing Record 4 of set 11 | anaconda\n",
      "City not found. Skipping...\n",
      "Processing Record 6 of set 11 | la palma\n",
      "Processing Record 7 of set 11 | himare\n",
      "Processing Record 8 of set 11 | waitati\n",
      "Processing Record 9 of set 11 | huejuquilla el alto\n",
      "Processing Record 10 of set 11 | labuan\n",
      "Processing Record 11 of set 11 | dzaoudzi\n",
      "Processing Record 12 of set 11 | mbanza-ngungu\n",
      "Processing Record 13 of set 11 | kandi\n",
      "Processing Record 14 of set 11 | kjollefjord\n",
      "Processing Record 15 of set 11 | kirakira\n",
      "Processing Record 16 of set 11 | lorengau\n",
      "Processing Record 17 of set 11 | farah\n",
      "Processing Record 18 of set 11 | simao\n",
      "Processing Record 19 of set 11 | kumluca\n",
      "Processing Record 20 of set 11 | whitehorse\n",
      "Processing Record 21 of set 11 | viseu\n",
      "Processing Record 22 of set 11 | berezovyy\n",
      "Processing Record 23 of set 11 | kondinskoye\n",
      "Processing Record 24 of set 11 | ipora\n",
      "Processing Record 25 of set 11 | hatillo\n",
      "City not found. Skipping...\n",
      "Processing Record 27 of set 11 | leeuwarden\n",
      "Processing Record 28 of set 11 | nalut\n",
      "Processing Record 29 of set 11 | hay river\n",
      "Processing Record 30 of set 11 | along\n",
      "Processing Record 31 of set 11 | bela\n",
      "Processing Record 32 of set 11 | havelock\n",
      "Processing Record 33 of set 11 | ondjiva\n",
      "Processing Record 34 of set 11 | biak\n",
      "City not found. Skipping...\n",
      "City not found. Skipping...\n",
      "Processing Record 37 of set 11 | charagua\n",
      "Processing Record 38 of set 11 | waynesville\n",
      "Processing Record 39 of set 11 | isla vista\n",
      "Processing Record 40 of set 11 | celestun\n",
      "City not found. Skipping...\n",
      "Processing Record 42 of set 11 | nanakuli\n",
      "Processing Record 43 of set 11 | itaituba\n",
      "Processing Record 44 of set 11 | krasnoarmeysk\n",
      "Processing Record 45 of set 11 | zhangye\n",
      "Processing Record 46 of set 11 | dharchula\n",
      "Processing Record 47 of set 11 | xichang\n",
      "Processing Record 48 of set 11 | bam\n",
      "Processing Record 49 of set 11 | aykhal\n",
      "Processing Record 50 of set 11 | serafimovich\n",
      "Processing Record 1 of set 12 | kyren\n",
      "Processing Record 2 of set 12 | talcahuano\n",
      "Processing Record 3 of set 12 | merauke\n",
      "Processing Record 4 of set 12 | yingcheng\n",
      "Processing Record 5 of set 12 | port keats\n",
      "Processing Record 6 of set 12 | lokoja\n",
      "Processing Record 7 of set 12 | hvide sande\n",
      "Processing Record 8 of set 12 | hambantota\n",
      "Processing Record 9 of set 12 | swan river\n",
      "Processing Record 10 of set 12 | uvalde\n",
      "Processing Record 11 of set 12 | itum-kale\n",
      "Processing Record 12 of set 12 | bolnisi\n",
      "Processing Record 13 of set 12 | dunedin\n",
      "Processing Record 14 of set 12 | quatre cocos\n",
      "Processing Record 15 of set 12 | barranca\n",
      "Processing Record 16 of set 12 | ust-nera\n",
      "Processing Record 17 of set 12 | dongli\n",
      "Processing Record 18 of set 12 | luba\n",
      "Processing Record 19 of set 12 | kutum\n",
      "Processing Record 20 of set 12 | olenegorsk\n",
      "Processing Record 21 of set 12 | conde\n",
      "Processing Record 22 of set 12 | saquena\n",
      "Processing Record 23 of set 12 | benghazi\n",
      "Processing Record 24 of set 12 | fare\n",
      "Processing Record 25 of set 12 | damnoen saduak\n",
      "Processing Record 26 of set 12 | prince rupert\n",
      "Processing Record 27 of set 12 | bonthe\n",
      "Processing Record 28 of set 12 | troitskoye\n",
      "Processing Record 29 of set 12 | dhidhdhoo\n",
      "Processing Record 30 of set 12 | tucuman\n",
      "Processing Record 31 of set 12 | barra do garcas\n",
      "Processing Record 32 of set 12 | sokolo\n",
      "Processing Record 33 of set 12 | palekh\n",
      "Processing Record 34 of set 12 | ancud\n",
      "Processing Record 35 of set 12 | tarko-sale\n",
      "Processing Record 36 of set 12 | paoua\n",
      "Processing Record 37 of set 12 | pilar\n",
      "City not found. Skipping...\n",
      "City not found. Skipping...\n",
      "Processing Record 40 of set 12 | nautla\n",
      "City not found. Skipping...\n",
      "Processing Record 42 of set 12 | springdale\n",
      "Processing Record 43 of set 12 | gondar\n",
      "Processing Record 44 of set 12 | kavadarci\n",
      "Processing Record 45 of set 12 | tual\n",
      "Processing Record 46 of set 12 | newport\n",
      "Processing Record 47 of set 12 | seymchan\n",
      "Processing Record 48 of set 12 | areka\n",
      "Processing Record 49 of set 12 | kembe\n",
      "Processing Record 50 of set 12 | stornoway\n",
      "Processing Record 1 of set 13 | faqirwali\n",
      "Processing Record 2 of set 13 | butembo\n",
      "Processing Record 3 of set 13 | talnakh\n",
      "Processing Record 4 of set 13 | puerto carreno\n",
      "Processing Record 5 of set 13 | nushki\n",
      "City not found. Skipping...\n",
      "Processing Record 7 of set 13 | harper\n",
      "Processing Record 8 of set 13 | bocas del toro\n",
      "Processing Record 9 of set 13 | sidi ali\n",
      "Processing Record 10 of set 13 | humaita\n"
     ]
    },
    {
     "name": "stdout",
     "output_type": "stream",
     "text": [
      "Processing Record 11 of set 13 | wawa\n",
      "Processing Record 12 of set 13 | vaitape\n",
      "Processing Record 13 of set 13 | santa maria\n",
      "-----------------------------\n",
      "Data Retrieval Complete\n",
      "-----------------------------\n"
     ]
    }
   ],
   "source": [
    "# Save config information.\n",
    "url = \"http://api.openweathermap.org/data/2.5/weather?\"\n",
    "units = \"metric\"\n",
    "\n",
    "# Build partial query URL\n",
    "query_url = f\"{url}appid={weather_api_key}&units={units}&q=\"\n",
    "\n",
    "print(\"Beginning Data Retrieval\")    \n",
    "print(\"-----------------------------\")\n",
    "\n",
    "# LOOP THROUGH EVERYTHING\n",
    "for set_index in range(len(grouped_cities)):\n",
    "    for city_index in range(len(grouped_cities[set_index])):\n",
    "        response = requests.get(query_url + grouped_cities[set_index][city_index]).json()\n",
    "        if response['cod'] == \"404\":\n",
    "            print(\"City not found. Skipping...\")\n",
    "        else:\n",
    "            print(f\"Processing Record {city_index + 1} of set {set_index + 1} | {grouped_cities[set_index][city_index]}\")\n",
    "\n",
    "            city.append(response[\"name\"])\n",
    "            cloudiness.append(response[\"clouds\"][\"all\"])\n",
    "            country.append(response[\"sys\"][\"country\"])\n",
    "            date.append(response[\"dt\"])\n",
    "            humidity.append(response[\"main\"][\"humidity\"])\n",
    "            lat.append(response[\"coord\"][\"lat\"])\n",
    "            lng.append(response[\"coord\"][\"lon\"])\n",
    "            max_temp.append(response[\"main\"][\"temp_max\"])\n",
    "            wind_speed.append(response[\"wind\"][\"speed\"])\n",
    "\n",
    "        time.sleep(1)\n",
    "   \n",
    "    \n",
    "#  LOOP THOUGH 1 CHUNK\n",
    "# for city_index in range(len(grouped_cities[1])):\n",
    "#     response = requests.get(query_url + grouped_cities[1][city_index]).json()\n",
    "#     if response['cod'] == \"404\":\n",
    "#         print(\"City not found. Skipping...\")\n",
    "#     else:\n",
    "#         print(f\"Processing Record {city_index + 1} | {grouped_cities[1][city_index]}\")\n",
    "        \n",
    "#         city.append(response[\"name\"])\n",
    "#         cloudiness.append(response[\"clouds\"][\"all\"])\n",
    "#         country.append(response[\"sys\"][\"country\"])\n",
    "#         date.append(response[\"dt\"])\n",
    "#         humidity.append(response[\"main\"][\"humidity\"])\n",
    "#         lat.append(response[\"coord\"][\"lat\"])\n",
    "#         lng.append(response[\"coord\"][\"lon\"])\n",
    "#         max_temp.append(response[\"main\"][\"temp_max\"])\n",
    "#         wind_speed.append(response[\"wind\"][\"speed\"])\n",
    "\n",
    "        \n",
    "print(\"-----------------------------\")\n",
    "print(\"Data Retrieval Complete\")     \n",
    "print(\"-----------------------------\")\n"
   ]
  },
  {
   "cell_type": "code",
   "execution_count": 8,
   "metadata": {},
   "outputs": [],
   "source": [
    "# EXAMPLE JSON\n",
    "# response = requests.get(query_url + \"teguldet\").json()\n",
    "# pprint(response)"
   ]
  },
  {
   "cell_type": "markdown",
   "metadata": {},
   "source": [
    "### Convert Raw Data to DataFrame\n",
    "* Export the city data into a .csv.\n",
    "* Display the DataFrame"
   ]
  },
  {
   "cell_type": "code",
   "execution_count": 9,
   "metadata": {},
   "outputs": [],
   "source": [
    "# NEED: City_ID, City, Cloudiness, Country, Date, Humidity, Lat, Lng, Max, Temp, Wind, Speed"
   ]
  },
  {
   "cell_type": "code",
   "execution_count": 10,
   "metadata": {},
   "outputs": [],
   "source": [
    "# PRACTICE RETRIEVING DATA & STORING IT\n",
    "\n",
    "# city.append(response[\"name\"])\n",
    "# cloudiness.append(response[\"clouds\"][\"all\"])\n",
    "# country.append(response[\"sys\"][\"country\"])\n",
    "# date.append(response[\"dt\"])\n",
    "# humidity.append(response[\"main\"][\"humidity\"])\n",
    "# lat.append(response[\"coord\"][\"lat\"])\n",
    "# lng.append(response[\"coord\"][\"lon\"])\n",
    "# max_temp.append(response[\"main\"][\"temp_max\"])\n",
    "# wind_speed.append(response[\"wind\"][\"speed\"])\n",
    "\n",
    "# weather_df = pd.DataFrame({\"City\": [city], \"Cloudiness\": [cloudiness],\"Country\": [country], \"Date\": [date], \"Humidity\": [humidity], \"Lat\": [lat], \"Lng\": [lng], \"Max Temp\": [max_temp], \"Wind Speed\": [wind_speed]})\n",
    "# weather_df"
   ]
  },
  {
   "cell_type": "code",
   "execution_count": 11,
   "metadata": {},
   "outputs": [
    {
     "data": {
      "text/html": [
       "<div>\n",
       "<style scoped>\n",
       "    .dataframe tbody tr th:only-of-type {\n",
       "        vertical-align: middle;\n",
       "    }\n",
       "\n",
       "    .dataframe tbody tr th {\n",
       "        vertical-align: top;\n",
       "    }\n",
       "\n",
       "    .dataframe thead th {\n",
       "        text-align: right;\n",
       "    }\n",
       "</style>\n",
       "<table border=\"1\" class=\"dataframe\">\n",
       "  <thead>\n",
       "    <tr style=\"text-align: right;\">\n",
       "      <th></th>\n",
       "      <th>City</th>\n",
       "      <th>Cloudiness</th>\n",
       "      <th>Country</th>\n",
       "      <th>Date</th>\n",
       "      <th>Humidity</th>\n",
       "      <th>Lat</th>\n",
       "      <th>Lng</th>\n",
       "      <th>Max Temp</th>\n",
       "      <th>Wind Speed</th>\n",
       "    </tr>\n",
       "  </thead>\n",
       "  <tbody>\n",
       "    <tr>\n",
       "      <td>0</td>\n",
       "      <td>Ust-Maya</td>\n",
       "      <td>0</td>\n",
       "      <td>RU</td>\n",
       "      <td>1580243149</td>\n",
       "      <td>97</td>\n",
       "      <td>60.42</td>\n",
       "      <td>134.53</td>\n",
       "      <td>-37.91</td>\n",
       "      <td>0.50</td>\n",
       "    </tr>\n",
       "    <tr>\n",
       "      <td>1</td>\n",
       "      <td>Kapaa</td>\n",
       "      <td>1</td>\n",
       "      <td>US</td>\n",
       "      <td>1580242946</td>\n",
       "      <td>68</td>\n",
       "      <td>22.08</td>\n",
       "      <td>-159.32</td>\n",
       "      <td>26.00</td>\n",
       "      <td>1.69</td>\n",
       "    </tr>\n",
       "    <tr>\n",
       "      <td>2</td>\n",
       "      <td>Esperance</td>\n",
       "      <td>90</td>\n",
       "      <td>AU</td>\n",
       "      <td>1580242946</td>\n",
       "      <td>100</td>\n",
       "      <td>-33.87</td>\n",
       "      <td>121.90</td>\n",
       "      <td>19.00</td>\n",
       "      <td>3.60</td>\n",
       "    </tr>\n",
       "    <tr>\n",
       "      <td>3</td>\n",
       "      <td>Lososina</td>\n",
       "      <td>27</td>\n",
       "      <td>RU</td>\n",
       "      <td>1580243153</td>\n",
       "      <td>94</td>\n",
       "      <td>49.00</td>\n",
       "      <td>140.31</td>\n",
       "      <td>-12.79</td>\n",
       "      <td>3.60</td>\n",
       "    </tr>\n",
       "    <tr>\n",
       "      <td>4</td>\n",
       "      <td>Rincon</td>\n",
       "      <td>20</td>\n",
       "      <td>US</td>\n",
       "      <td>1580243154</td>\n",
       "      <td>36</td>\n",
       "      <td>32.30</td>\n",
       "      <td>-81.24</td>\n",
       "      <td>17.22</td>\n",
       "      <td>4.10</td>\n",
       "    </tr>\n",
       "  </tbody>\n",
       "</table>\n",
       "</div>"
      ],
      "text/plain": [
       "        City  Cloudiness Country        Date  Humidity    Lat     Lng  \\\n",
       "0   Ust-Maya           0      RU  1580243149        97  60.42  134.53   \n",
       "1      Kapaa           1      US  1580242946        68  22.08 -159.32   \n",
       "2  Esperance          90      AU  1580242946       100 -33.87  121.90   \n",
       "3   Lososina          27      RU  1580243153        94  49.00  140.31   \n",
       "4     Rincon          20      US  1580243154        36  32.30  -81.24   \n",
       "\n",
       "   Max Temp  Wind Speed  \n",
       "0    -37.91        0.50  \n",
       "1     26.00        1.69  \n",
       "2     19.00        3.60  \n",
       "3    -12.79        3.60  \n",
       "4     17.22        4.10  "
      ]
     },
     "execution_count": 11,
     "metadata": {},
     "output_type": "execute_result"
    }
   ],
   "source": [
    "# PRINT DATAFRAME\n",
    "\n",
    "weather_df = pd.DataFrame({\"City\": city, \"Cloudiness\": cloudiness,\"Country\": country, \"Date\": date, \"Humidity\": humidity, \"Lat\": lat, \"Lng\": lng, \"Max Temp\": max_temp, \"Wind Speed\": wind_speed})\n",
    "weather_df.head()\n"
   ]
  },
  {
   "cell_type": "code",
   "execution_count": 12,
   "metadata": {},
   "outputs": [],
   "source": [
    "weather_df.to_csv(\"output_data/cities.csv\")"
   ]
  },
  {
   "cell_type": "markdown",
   "metadata": {},
   "source": [
    "### Plotting the Data\n",
    "* Use proper labeling of the plots using plot titles (including date of analysis) and axes labels.\n",
    "* Save the plotted figures as .pngs."
   ]
  },
  {
   "cell_type": "markdown",
   "metadata": {},
   "source": [
    "#### Latitude vs. Temperature Plot"
   ]
  },
  {
   "cell_type": "code",
   "execution_count": 13,
   "metadata": {
    "scrolled": true
   },
   "outputs": [],
   "source": [
    "# TEACHER OUTPUT"
   ]
  },
  {
   "cell_type": "code",
   "execution_count": 14,
   "metadata": {},
   "outputs": [],
   "source": [
    "# Get Date\n",
    "ts = int(date[0])\n",
    "\n",
    "readable_date = (datetime.utcfromtimestamp(ts).strftime('%Y-%m-%d'))"
   ]
  },
  {
   "cell_type": "code",
   "execution_count": 15,
   "metadata": {},
   "outputs": [
    {
     "data": {
      "image/png": "[encoded data removed]",
      "text/plain": [
       "<Figure size 432x288 with 1 Axes>"
      ]
     },
     "metadata": {
      "needs_background": "light"
     },
     "output_type": "display_data"
    }
   ],
   "source": [
    "# Build a scatter plot for each data type\n",
    "plt.scatter(lat, max_temp, marker=\"o\")\n",
    "\n",
    "# Incorporate the other graph properties\n",
    "plt.title(\"Latitude vs. Temperature Plot\")\n",
    "plt.ylabel(\"Temperature (Celsius)\")\n",
    "plt.xlabel(\"Latitude\")\n",
    "plt.grid(True)\n",
    "\n",
    "# Save the figure\n",
    "plt.savefig(\"output_data/TemperaturebyLat.png\")\n",
    "\n",
    "# Show plot\n",
    "plt.show()"
   ]
  },
  {
   "cell_type": "markdown",
   "metadata": {},
   "source": [
    "It is hottest around the equator. As you move away from the equator in either direction (North or South), it gets colder"
   ]
  },
  {
   "cell_type": "markdown",
   "metadata": {},
   "source": [
    "#### Latitude vs. Humidity Plot"
   ]
  },
  {
   "cell_type": "code",
   "execution_count": 16,
   "metadata": {},
   "outputs": [],
   "source": [
    "# TEACHER OUTPUT"
   ]
  },
  {
   "cell_type": "code",
   "execution_count": 17,
   "metadata": {},
   "outputs": [
    {
     "data": {
      "image/png": "[encoded data removed]",
      "text/plain": [
       "<Figure size 432x288 with 1 Axes>"
      ]
     },
     "metadata": {
      "needs_background": "light"
     },
     "output_type": "display_data"
    }
   ],
   "source": [
    "# Build a scatter plot for each data type\n",
    "plt.scatter(lat, cloudiness, marker=\"o\")\n",
    "\n",
    "# Incorporate the other graph properties\n",
    "plt.title(\"Latitude vs. Humidity Plot\")\n",
    "plt.ylabel(\"Humidity\")\n",
    "plt.xlabel(\"Latitude\")\n",
    "plt.grid(True)\n",
    "\n",
    "# Save the figure\n",
    "plt.savefig(\"output_data/HumiditybyLat.png\")\n",
    "\n",
    "# Show plot\n",
    "plt.show()"
   ]
  },
  {
   "cell_type": "markdown",
   "metadata": {},
   "source": [
    "I dont see a pattern with humidity vs Lat. To me, humidity would be related to proximity to water which is irrespective of Lat.\n",
    "Although we do see strong emphasis at specific Lat"
   ]
  },
  {
   "cell_type": "markdown",
   "metadata": {},
   "source": [
    "#### Latitude vs. Cloudiness Plot"
   ]
  },
  {
   "cell_type": "code",
   "execution_count": 18,
   "metadata": {},
   "outputs": [],
   "source": [
    "# TEACHER OUTPUT"
   ]
  },
  {
   "cell_type": "code",
   "execution_count": 19,
   "metadata": {},
   "outputs": [
    {
     "data": {
      "image/png": "[encoded data removed]",
      "text/plain": [
       "<Figure size 432x288 with 1 Axes>"
      ]
     },
     "metadata": {
      "needs_background": "light"
     },
     "output_type": "display_data"
    }
   ],
   "source": [
    "# Build a scatter plot for each data type\n",
    "plt.scatter(lat, cloudiness, marker=\"o\")\n",
    "\n",
    "# Incorporate the other graph properties\n",
    "plt.title(\"Latitude vs. Cloudiness Plot\")\n",
    "plt.ylabel(\"Cloudiness\")\n",
    "plt.xlabel(\"Latitude\")\n",
    "plt.grid(True)\n",
    "\n",
    "# Save the figure\n",
    "plt.savefig(\"output_data/CloudinessbyLat.png\")\n",
    "\n",
    "# Show plot\n",
    "plt.show()"
   ]
  },
  {
   "cell_type": "markdown",
   "metadata": {},
   "source": [
    "I see a strong emphasis at specific Lat for Cloudiness. This makes sense given the air flow"
   ]
  },
  {
   "cell_type": "markdown",
   "metadata": {},
   "source": [
    "#### Latitude vs. Wind Speed Plot"
   ]
  },
  {
   "cell_type": "code",
   "execution_count": 20,
   "metadata": {},
   "outputs": [],
   "source": [
    "# TEACHER OUTPUT"
   ]
  },
  {
   "cell_type": "code",
   "execution_count": 21,
   "metadata": {},
   "outputs": [
    {
     "data": {
      "image/png": "[encoded data removed]",
      "text/plain": [
       "<Figure size 432x288 with 1 Axes>"
      ]
     },
     "metadata": {
      "needs_background": "light"
     },
     "output_type": "display_data"
    }
   ],
   "source": [
    "# Build a scatter plot for each data type\n",
    "plt.scatter(lat, cloudiness, marker=\"o\")\n",
    "\n",
    "# Incorporate the other graph properties\n",
    "plt.title(\"Latitude vs. Wind Speed Plot\")\n",
    "plt.ylabel(\"Wind Speed\")\n",
    "plt.xlabel(\"Latitude\")\n",
    "plt.grid(True)\n",
    "\n",
    "# Save the figure\n",
    "plt.savefig(\"output_data/wind_speedbyLat.png\")\n",
    "\n",
    "# Show plot\n",
    "plt.show()"
   ]
  },
  {
   "cell_type": "markdown",
   "metadata": {},
   "source": [
    "I see a strong emphasis at specific Lat for wind speed. This makes sense given the air flow"
   ]
  },
  {
   "cell_type": "markdown",
   "metadata": {},
   "source": [
    "## Linear Regression"
   ]
  },
  {
   "cell_type": "code",
   "execution_count": 22,
   "metadata": {},
   "outputs": [],
   "source": [
    "# OPTIONAL: Create a function to create Linear Regression plots"
   ]
  },
  {
   "cell_type": "code",
   "execution_count": 23,
   "metadata": {},
   "outputs": [],
   "source": [
    "# Create Northern and Southern Hemisphere DataFrames"
   ]
  },
  {
   "cell_type": "markdown",
   "metadata": {},
   "source": [
    "####  Northern Hemisphere - Max Temp vs. Latitude Linear Regression"
   ]
  },
  {
   "cell_type": "code",
   "execution_count": 24,
   "metadata": {},
   "outputs": [],
   "source": [
    "# TEACHER OUTPUT"
   ]
  },
  {
   "cell_type": "code",
   "execution_count": 25,
   "metadata": {},
   "outputs": [
    {
     "data": {
      "text/html": [
       "<div>\n",
       "<style scoped>\n",
       "    .dataframe tbody tr th:only-of-type {\n",
       "        vertical-align: middle;\n",
       "    }\n",
       "\n",
       "    .dataframe tbody tr th {\n",
       "        vertical-align: top;\n",
       "    }\n",
       "\n",
       "    .dataframe thead th {\n",
       "        text-align: right;\n",
       "    }\n",
       "</style>\n",
       "<table border=\"1\" class=\"dataframe\">\n",
       "  <thead>\n",
       "    <tr style=\"text-align: right;\">\n",
       "      <th></th>\n",
       "      <th>City</th>\n",
       "      <th>Cloudiness</th>\n",
       "      <th>Country</th>\n",
       "      <th>Date</th>\n",
       "      <th>Humidity</th>\n",
       "      <th>Lat</th>\n",
       "      <th>Lng</th>\n",
       "      <th>Max Temp</th>\n",
       "      <th>Wind Speed</th>\n",
       "    </tr>\n",
       "  </thead>\n",
       "  <tbody>\n",
       "    <tr>\n",
       "      <td>0</td>\n",
       "      <td>Ust-Maya</td>\n",
       "      <td>0</td>\n",
       "      <td>RU</td>\n",
       "      <td>1580243149</td>\n",
       "      <td>97</td>\n",
       "      <td>60.42</td>\n",
       "      <td>134.53</td>\n",
       "      <td>-37.91</td>\n",
       "      <td>0.50</td>\n",
       "    </tr>\n",
       "    <tr>\n",
       "      <td>1</td>\n",
       "      <td>Kapaa</td>\n",
       "      <td>1</td>\n",
       "      <td>US</td>\n",
       "      <td>1580242946</td>\n",
       "      <td>68</td>\n",
       "      <td>22.08</td>\n",
       "      <td>-159.32</td>\n",
       "      <td>26.00</td>\n",
       "      <td>1.69</td>\n",
       "    </tr>\n",
       "    <tr>\n",
       "      <td>3</td>\n",
       "      <td>Lososina</td>\n",
       "      <td>27</td>\n",
       "      <td>RU</td>\n",
       "      <td>1580243153</td>\n",
       "      <td>94</td>\n",
       "      <td>49.00</td>\n",
       "      <td>140.31</td>\n",
       "      <td>-12.79</td>\n",
       "      <td>3.60</td>\n",
       "    </tr>\n",
       "    <tr>\n",
       "      <td>4</td>\n",
       "      <td>Rincon</td>\n",
       "      <td>20</td>\n",
       "      <td>US</td>\n",
       "      <td>1580243154</td>\n",
       "      <td>36</td>\n",
       "      <td>32.30</td>\n",
       "      <td>-81.24</td>\n",
       "      <td>17.22</td>\n",
       "      <td>4.10</td>\n",
       "    </tr>\n",
       "    <tr>\n",
       "      <td>5</td>\n",
       "      <td>Khasan</td>\n",
       "      <td>100</td>\n",
       "      <td>RU</td>\n",
       "      <td>1580243156</td>\n",
       "      <td>78</td>\n",
       "      <td>42.43</td>\n",
       "      <td>130.64</td>\n",
       "      <td>-6.15</td>\n",
       "      <td>1.80</td>\n",
       "    </tr>\n",
       "  </tbody>\n",
       "</table>\n",
       "</div>"
      ],
      "text/plain": [
       "       City  Cloudiness Country        Date  Humidity    Lat     Lng  \\\n",
       "0  Ust-Maya           0      RU  1580243149        97  60.42  134.53   \n",
       "1     Kapaa           1      US  1580242946        68  22.08 -159.32   \n",
       "3  Lososina          27      RU  1580243153        94  49.00  140.31   \n",
       "4    Rincon          20      US  1580243154        36  32.30  -81.24   \n",
       "5    Khasan         100      RU  1580243156        78  42.43  130.64   \n",
       "\n",
       "   Max Temp  Wind Speed  \n",
       "0    -37.91        0.50  \n",
       "1     26.00        1.69  \n",
       "3    -12.79        3.60  \n",
       "4     17.22        4.10  \n",
       "5     -6.15        1.80  "
      ]
     },
     "execution_count": 25,
     "metadata": {},
     "output_type": "execute_result"
    }
   ],
   "source": [
    "northern_df = weather_df.loc[weather_df[\"Lat\"] > 0,:]\n",
    "northern_df.head()"
   ]
  },
  {
   "cell_type": "code",
   "execution_count": 26,
   "metadata": {},
   "outputs": [
    {
     "data": {
      "text/html": [
       "<div>\n",
       "<style scoped>\n",
       "    .dataframe tbody tr th:only-of-type {\n",
       "        vertical-align: middle;\n",
       "    }\n",
       "\n",
       "    .dataframe tbody tr th {\n",
       "        vertical-align: top;\n",
       "    }\n",
       "\n",
       "    .dataframe thead th {\n",
       "        text-align: right;\n",
       "    }\n",
       "</style>\n",
       "<table border=\"1\" class=\"dataframe\">\n",
       "  <thead>\n",
       "    <tr style=\"text-align: right;\">\n",
       "      <th></th>\n",
       "      <th>City</th>\n",
       "      <th>Cloudiness</th>\n",
       "      <th>Country</th>\n",
       "      <th>Date</th>\n",
       "      <th>Humidity</th>\n",
       "      <th>Lat</th>\n",
       "      <th>Lng</th>\n",
       "      <th>Max Temp</th>\n",
       "      <th>Wind Speed</th>\n",
       "    </tr>\n",
       "  </thead>\n",
       "  <tbody>\n",
       "    <tr>\n",
       "      <td>2</td>\n",
       "      <td>Esperance</td>\n",
       "      <td>90</td>\n",
       "      <td>AU</td>\n",
       "      <td>1580242946</td>\n",
       "      <td>100</td>\n",
       "      <td>-33.87</td>\n",
       "      <td>121.90</td>\n",
       "      <td>19.00</td>\n",
       "      <td>3.60</td>\n",
       "    </tr>\n",
       "    <tr>\n",
       "      <td>9</td>\n",
       "      <td>Hermanus</td>\n",
       "      <td>100</td>\n",
       "      <td>ZA</td>\n",
       "      <td>1580243160</td>\n",
       "      <td>96</td>\n",
       "      <td>-34.42</td>\n",
       "      <td>19.23</td>\n",
       "      <td>18.33</td>\n",
       "      <td>2.24</td>\n",
       "    </tr>\n",
       "    <tr>\n",
       "      <td>10</td>\n",
       "      <td>Honiara</td>\n",
       "      <td>20</td>\n",
       "      <td>SB</td>\n",
       "      <td>1580243161</td>\n",
       "      <td>94</td>\n",
       "      <td>-9.43</td>\n",
       "      <td>159.95</td>\n",
       "      <td>25.00</td>\n",
       "      <td>0.80</td>\n",
       "    </tr>\n",
       "    <tr>\n",
       "      <td>11</td>\n",
       "      <td>Mahebourg</td>\n",
       "      <td>20</td>\n",
       "      <td>MU</td>\n",
       "      <td>1580243162</td>\n",
       "      <td>88</td>\n",
       "      <td>-20.41</td>\n",
       "      <td>57.70</td>\n",
       "      <td>23.00</td>\n",
       "      <td>1.00</td>\n",
       "    </tr>\n",
       "    <tr>\n",
       "      <td>14</td>\n",
       "      <td>Punta Arenas</td>\n",
       "      <td>40</td>\n",
       "      <td>CL</td>\n",
       "      <td>1580242956</td>\n",
       "      <td>53</td>\n",
       "      <td>-53.15</td>\n",
       "      <td>-70.92</td>\n",
       "      <td>12.00</td>\n",
       "      <td>14.90</td>\n",
       "    </tr>\n",
       "  </tbody>\n",
       "</table>\n",
       "</div>"
      ],
      "text/plain": [
       "            City  Cloudiness Country        Date  Humidity    Lat     Lng  \\\n",
       "2      Esperance          90      AU  1580242946       100 -33.87  121.90   \n",
       "9       Hermanus         100      ZA  1580243160        96 -34.42   19.23   \n",
       "10       Honiara          20      SB  1580243161        94  -9.43  159.95   \n",
       "11     Mahebourg          20      MU  1580243162        88 -20.41   57.70   \n",
       "14  Punta Arenas          40      CL  1580242956        53 -53.15  -70.92   \n",
       "\n",
       "    Max Temp  Wind Speed  \n",
       "2      19.00        3.60  \n",
       "9      18.33        2.24  \n",
       "10     25.00        0.80  \n",
       "11     23.00        1.00  \n",
       "14     12.00       14.90  "
      ]
     },
     "execution_count": 26,
     "metadata": {},
     "output_type": "execute_result"
    }
   ],
   "source": [
    "southern_df = weather_df.loc[weather_df[\"Lat\"] < 0,:]\n",
    "southern_df.head()"
   ]
  },
  {
   "cell_type": "code",
   "execution_count": 27,
   "metadata": {},
   "outputs": [
    {
     "data": {
      "image/png": "[encoded data removed]",
      "text/plain": [
       "<Figure size 432x288 with 1 Axes>"
      ]
     },
     "metadata": {
      "needs_background": "light"
     },
     "output_type": "display_data"
    },
    {
     "name": "stdout",
     "output_type": "stream",
     "text": [
      "The equation of the regression line is: y = -0.77x + 34.93\n",
      "The r-squared is: -0.8690708979307299\n"
     ]
    }
   ],
   "source": [
    "# gather regression data\n",
    "\n",
    "x_values = northern_df[\"Lat\"]\n",
    "y_values = northern_df[\"Max Temp\"]\n",
    "\n",
    "(slope, intercept, rvalue, pvalue, stderr) = st.linregress(x_values, y_values)\n",
    "\n",
    "# create equation to overlay line\n",
    "regress_values = x_values * slope + intercept\n",
    "\n",
    "line_eq = \"y = \" + str(round(slope,2)) + \"x + \" + str(round(intercept,2))\n",
    "\n",
    "# make the scatter plot\n",
    "plt.scatter(x_values,y_values)\n",
    "# place regression line on top\n",
    "plt.plot(x_values,regress_values,\"r-\")\n",
    "\n",
    "plt.title(\"Northern Hemisphere - Max Temp vs. Latitude\")\n",
    "\n",
    "plt.xlabel(\"Latitude\")\n",
    "\n",
    "plt.ylabel(\"Temperature (Celcius)\")\n",
    "\n",
    "# print some regression data\n",
    "plt.show()\n",
    "print(f\"The equation of the regression line is: {line_eq}\")\n",
    "print(f\"The r-squared is: {rvalue}\")"
   ]
  },
  {
   "cell_type": "markdown",
   "metadata": {},
   "source": [
    "There is a strong negative coorelation between lower temps and higher lats in the north\n",
    "makes sense - as you travel to the north pole, it gets colder"
   ]
  },
  {
   "cell_type": "markdown",
   "metadata": {},
   "source": [
    "####  Southern Hemisphere - Max Temp vs. Latitude Linear Regression"
   ]
  },
  {
   "cell_type": "code",
   "execution_count": 28,
   "metadata": {},
   "outputs": [],
   "source": [
    "# TEACHER OUTPUT"
   ]
  },
  {
   "cell_type": "code",
   "execution_count": 29,
   "metadata": {},
   "outputs": [
    {
     "data": {
      "image/png": "[encoded data removed]",
      "text/plain": [
       "<Figure size 432x288 with 1 Axes>"
      ]
     },
     "metadata": {
      "needs_background": "light"
     },
     "output_type": "display_data"
    },
    {
     "name": "stdout",
     "output_type": "stream",
     "text": [
      "The equation of the regression line is: y = 0.19x + 27.75\n",
      "The r-squared is: 0.5241125994734381\n"
     ]
    }
   ],
   "source": [
    "# gather regression data\n",
    "\n",
    "x_values = southern_df[\"Lat\"]\n",
    "y_values = southern_df[\"Max Temp\"]\n",
    "\n",
    "(slope, intercept, rvalue, pvalue, stderr) = st.linregress(x_values, y_values)\n",
    "\n",
    "# create equation to overlay line\n",
    "regress_values = x_values * slope + intercept\n",
    "\n",
    "line_eq = \"y = \" + str(round(slope,2)) + \"x + \" + str(round(intercept,2))\n",
    "\n",
    "# make the scatter plot\n",
    "plt.scatter(x_values,y_values)\n",
    "# place regression line on top\n",
    "plt.plot(x_values,regress_values,\"r-\")\n",
    "\n",
    "plt.title(\"Southern Hemisphere - Max Temp vs. Latitude\")\n",
    "\n",
    "plt.xlabel(\"Latitude\")\n",
    "\n",
    "plt.ylabel(\"Temperature (Celcius)\")\n",
    "\n",
    "# print some regression data\n",
    "plt.show()\n",
    "print(f\"The equation of the regression line is: {line_eq}\")\n",
    "print(f\"The r-squared is: {rvalue}\")"
   ]
  },
  {
   "cell_type": "markdown",
   "metadata": {},
   "source": [
    "There is a positive coorelation between lower temps and lower lats in the south\n",
    "makes sense - as you travel to the south pole, it gets colder"
   ]
  },
  {
   "cell_type": "markdown",
   "metadata": {},
   "source": [
    "####  Northern Hemisphere - Humidity (%) vs. Latitude Linear Regression"
   ]
  },
  {
   "cell_type": "code",
   "execution_count": 30,
   "metadata": {},
   "outputs": [],
   "source": [
    "# TEACHER OUTPUT"
   ]
  },
  {
   "cell_type": "code",
   "execution_count": 31,
   "metadata": {},
   "outputs": [
    {
     "data": {
      "image/png": "[encoded data removed]",
      "text/plain": [
       "<Figure size 432x288 with 1 Axes>"
      ]
     },
     "metadata": {
      "needs_background": "light"
     },
     "output_type": "display_data"
    },
    {
     "name": "stdout",
     "output_type": "stream",
     "text": [
      "The equation of the regression line is: y = 0.48x + 53.9\n",
      "The r-squared is: 0.4239947721741126\n"
     ]
    }
   ],
   "source": [
    "# gather regression data\n",
    "\n",
    "x_values = northern_df[\"Lat\"]\n",
    "y_values = northern_df[\"Humidity\"]\n",
    "\n",
    "(slope, intercept, rvalue, pvalue, stderr) = st.linregress(x_values, y_values)\n",
    "\n",
    "# create equation to overlay line\n",
    "regress_values = x_values * slope + intercept\n",
    "\n",
    "line_eq = \"y = \" + str(round(slope,2)) + \"x + \" + str(round(intercept,2))\n",
    "\n",
    "# make the scatter plot\n",
    "plt.scatter(x_values,y_values)\n",
    "# place regression line on top\n",
    "plt.plot(x_values,regress_values,\"r-\")\n",
    "\n",
    "plt.title(\"Northern Hemisphere - Humidity vs. Latitude\")\n",
    "\n",
    "plt.xlabel(\"Latitude\")\n",
    "\n",
    "plt.ylabel(\"Humidity\")\n",
    "\n",
    "# print some regression data\n",
    "plt.show()\n",
    "print(f\"The equation of the regression line is: {line_eq}\")\n",
    "print(f\"The r-squared is: {rvalue}\")"
   ]
  },
  {
   "cell_type": "markdown",
   "metadata": {},
   "source": [
    "There is a positive coorelation between humidity and lat in the north but it isn't very strong. I think it makes sense that it isn't very strong. Humidity seems unrelated to lat"
   ]
  },
  {
   "cell_type": "markdown",
   "metadata": {},
   "source": [
    "####  Southern Hemisphere - Humidity (%) vs. Latitude Linear Regression"
   ]
  },
  {
   "cell_type": "code",
   "execution_count": 32,
   "metadata": {},
   "outputs": [],
   "source": [
    "# TEACHER OUTPUT"
   ]
  },
  {
   "cell_type": "code",
   "execution_count": 33,
   "metadata": {},
   "outputs": [
    {
     "data": {
      "image/png": "[encoded data removed]",
      "text/plain": [
       "<Figure size 432x288 with 1 Axes>"
      ]
     },
     "metadata": {
      "needs_background": "light"
     },
     "output_type": "display_data"
    },
    {
     "name": "stdout",
     "output_type": "stream",
     "text": [
      "The equation of the regression line is: y = 0.38x + 84.19\n",
      "The r-squared is: 0.2845180924372142\n"
     ]
    }
   ],
   "source": [
    "# gather regression data\n",
    "\n",
    "x_values = southern_df[\"Lat\"]\n",
    "y_values = southern_df[\"Humidity\"]\n",
    "\n",
    "(slope, intercept, rvalue, pvalue, stderr) = st.linregress(x_values, y_values)\n",
    "\n",
    "# create equation to overlay line\n",
    "regress_values = x_values * slope + intercept\n",
    "\n",
    "line_eq = \"y = \" + str(round(slope,2)) + \"x + \" + str(round(intercept,2))\n",
    "\n",
    "# make the scatter plot\n",
    "plt.scatter(x_values,y_values)\n",
    "# place regression line on top\n",
    "plt.plot(x_values,regress_values,\"r-\")\n",
    "\n",
    "plt.title(\"Southern Hemisphere - Humidity vs. Latitude\")\n",
    "\n",
    "plt.xlabel(\"Latitude\")\n",
    "\n",
    "plt.ylabel(\"Humidity\")\n",
    "\n",
    "# print some regression data\n",
    "plt.show()\n",
    "print(f\"The equation of the regression line is: {line_eq}\")\n",
    "print(f\"The r-squared is: {rvalue}\")"
   ]
  },
  {
   "cell_type": "markdown",
   "metadata": {},
   "source": [
    "There is a positive coorelation between humidity and lat in the south but it isn't very strong. I think it makes sense that it isn't very strong. Humidity seems unrelated to lat"
   ]
  },
  {
   "cell_type": "markdown",
   "metadata": {},
   "source": [
    "####  Northern Hemisphere - Cloudiness (%) vs. Latitude Linear Regression"
   ]
  },
  {
   "cell_type": "code",
   "execution_count": 34,
   "metadata": {},
   "outputs": [],
   "source": [
    "# TEACHER OUTPUT"
   ]
  },
  {
   "cell_type": "code",
   "execution_count": 35,
   "metadata": {},
   "outputs": [
    {
     "data": {
      "image/png": "[encoded data removed]",
      "text/plain": [
       "<Figure size 432x288 with 1 Axes>"
      ]
     },
     "metadata": {
      "needs_background": "light"
     },
     "output_type": "display_data"
    },
    {
     "name": "stdout",
     "output_type": "stream",
     "text": [
      "The equation of the regression line is: y = 0.57x + 33.19\n",
      "The r-squared is: 0.28934316988578085\n"
     ]
    }
   ],
   "source": [
    "# gather regression data\n",
    "\n",
    "x_values = northern_df[\"Lat\"]\n",
    "y_values = northern_df[\"Cloudiness\"]\n",
    "\n",
    "(slope, intercept, rvalue, pvalue, stderr) = st.linregress(x_values, y_values)\n",
    "\n",
    "# create equation to overlay line\n",
    "regress_values = x_values * slope + intercept\n",
    "\n",
    "line_eq = \"y = \" + str(round(slope,2)) + \"x + \" + str(round(intercept,2))\n",
    "\n",
    "# make the scatter plot\n",
    "plt.scatter(x_values,y_values)\n",
    "# place regression line on top\n",
    "plt.plot(x_values,regress_values,\"r-\")\n",
    "\n",
    "plt.title(\"Northern Hemisphere - Cloudiness vs. Latitude\")\n",
    "\n",
    "plt.xlabel(\"Latitude\")\n",
    "\n",
    "plt.ylabel(\"Cloudiness\")\n",
    "\n",
    "# print some regression data\n",
    "plt.show()\n",
    "print(f\"The equation of the regression line is: {line_eq}\")\n",
    "print(f\"The r-squared is: {rvalue}\")"
   ]
  },
  {
   "cell_type": "markdown",
   "metadata": {},
   "source": [
    "There is a positive coorelation between cloudiness and lat in the north but it isn't strong. I think it makes sense that it isn't strong. Cloudiness seems unrelated to lat"
   ]
  },
  {
   "cell_type": "markdown",
   "metadata": {},
   "source": [
    "####  Southern Hemisphere - Cloudiness (%) vs. Latitude Linear Regression"
   ]
  },
  {
   "cell_type": "code",
   "execution_count": 36,
   "metadata": {},
   "outputs": [],
   "source": [
    "# TEACHER OUTPUT"
   ]
  },
  {
   "cell_type": "code",
   "execution_count": 37,
   "metadata": {},
   "outputs": [
    {
     "data": {
      "image/png": "[encoded data removed]",
      "text/plain": [
       "<Figure size 432x288 with 1 Axes>"
      ]
     },
     "metadata": {
      "needs_background": "light"
     },
     "output_type": "display_data"
    },
    {
     "name": "stdout",
     "output_type": "stream",
     "text": [
      "The equation of the regression line is: y = 0.37x + 67.19\n",
      "The r-squared is: 0.12830699901557652\n"
     ]
    }
   ],
   "source": [
    "# gather regression data\n",
    "\n",
    "x_values = southern_df[\"Lat\"]\n",
    "y_values = southern_df[\"Cloudiness\"]\n",
    "\n",
    "(slope, intercept, rvalue, pvalue, stderr) = st.linregress(x_values, y_values)\n",
    "\n",
    "# create equation to overlay line\n",
    "regress_values = x_values * slope + intercept\n",
    "\n",
    "line_eq = \"y = \" + str(round(slope,2)) + \"x + \" + str(round(intercept,2))\n",
    "\n",
    "# make the scatter plot\n",
    "plt.scatter(x_values,y_values)\n",
    "# place regression line on top\n",
    "plt.plot(x_values,regress_values,\"r-\")\n",
    "\n",
    "plt.title(\"Southern Hemisphere - Cloudiness vs. Latitude\")\n",
    "\n",
    "plt.xlabel(\"Latitude\")\n",
    "\n",
    "plt.ylabel(\"Cloudiness\")\n",
    "\n",
    "# print some regression data\n",
    "plt.show()\n",
    "print(f\"The equation of the regression line is: {line_eq}\")\n",
    "print(f\"The r-squared is: {rvalue}\")"
   ]
  },
  {
   "cell_type": "markdown",
   "metadata": {},
   "source": [
    "There is a positive coorelation between cloudiness and lat in the south but it isn't strong. I think it makes sense that it isn't strong. Cloudiness seems unrelated to lat"
   ]
  },
  {
   "cell_type": "markdown",
   "metadata": {},
   "source": [
    "####  Northern Hemisphere - Wind Speed (mph) vs. Latitude Linear Regression"
   ]
  },
  {
   "cell_type": "code",
   "execution_count": 38,
   "metadata": {},
   "outputs": [],
   "source": [
    "# TEACHER OUTPUT"
   ]
  },
  {
   "cell_type": "code",
   "execution_count": 39,
   "metadata": {},
   "outputs": [
    {
     "data": {
      "image/png": "[encoded data removed]",
      "text/plain": [
       "<Figure size 432x288 with 1 Axes>"
      ]
     },
     "metadata": {
      "needs_background": "light"
     },
     "output_type": "display_data"
    },
    {
     "name": "stdout",
     "output_type": "stream",
     "text": [
      "The equation of the regression line is: y = 0.01x + 3.12\n",
      "The r-squared is: 0.08533972376786816\n"
     ]
    }
   ],
   "source": [
    "# gather regression data\n",
    "\n",
    "x_values = northern_df[\"Lat\"]\n",
    "y_values = northern_df[\"Wind Speed\"]\n",
    "\n",
    "(slope, intercept, rvalue, pvalue, stderr) = st.linregress(x_values, y_values)\n",
    "\n",
    "# create equation to overlay line\n",
    "regress_values = x_values * slope + intercept\n",
    "\n",
    "line_eq = \"y = \" + str(round(slope,2)) + \"x + \" + str(round(intercept,2))\n",
    "\n",
    "# make the scatter plot\n",
    "plt.scatter(x_values,y_values)\n",
    "# place regression line on top\n",
    "plt.plot(x_values,regress_values,\"r-\")\n",
    "\n",
    "plt.title(\"Northern Hemisphere - Wind Speed vs. Latitude\")\n",
    "\n",
    "plt.xlabel(\"Latitude\")\n",
    "\n",
    "plt.ylabel(\"Wind Speed\")\n",
    "\n",
    "# print some regression data\n",
    "plt.show()\n",
    "print(f\"The equation of the regression line is: {line_eq}\")\n",
    "print(f\"The r-squared is: {rvalue}\")"
   ]
  },
  {
   "cell_type": "markdown",
   "metadata": {},
   "source": [
    "There is no coorelation between wind speed and lat in the north. This makes sense. Wind speed would be related to coast line"
   ]
  },
  {
   "cell_type": "markdown",
   "metadata": {},
   "source": [
    "####  Southern Hemisphere - Wind Speed (mph) vs. Latitude Linear Regression"
   ]
  },
  {
   "cell_type": "code",
   "execution_count": 40,
   "metadata": {},
   "outputs": [],
   "source": [
    "# TEACHER OUTPUT"
   ]
  },
  {
   "cell_type": "code",
   "execution_count": 41,
   "metadata": {
    "scrolled": true
   },
   "outputs": [
    {
     "data": {
      "image/png": "[encoded data removed]",
      "text/plain": [
       "<Figure size 432x288 with 1 Axes>"
      ]
     },
     "metadata": {
      "needs_background": "light"
     },
     "output_type": "display_data"
    },
    {
     "name": "stdout",
     "output_type": "stream",
     "text": [
      "The equation of the regression line is: y = -0.05x + 2.61\n",
      "The r-squared is: -0.27303474858830834\n"
     ]
    }
   ],
   "source": [
    "# gather regression data\n",
    "\n",
    "x_values = southern_df[\"Lat\"]\n",
    "y_values = southern_df[\"Wind Speed\"]\n",
    "\n",
    "(slope, intercept, rvalue, pvalue, stderr) = st.linregress(x_values, y_values)\n",
    "\n",
    "# create equation to overlay line\n",
    "regress_values = x_values * slope + intercept\n",
    "\n",
    "line_eq = \"y = \" + str(round(slope,2)) + \"x + \" + str(round(intercept,2))\n",
    "\n",
    "# make the scatter plot\n",
    "plt.scatter(x_values,y_values)\n",
    "# place regression line on top\n",
    "plt.plot(x_values,regress_values,\"r-\")\n",
    "\n",
    "plt.title(\"Southern Hemisphere - Wind Speed vs. Latitude\")\n",
    "\n",
    "plt.xlabel(\"Latitude\")\n",
    "\n",
    "plt.ylabel(\"Wind Speed\")\n",
    "\n",
    "# print some regression data\n",
    "plt.show()\n",
    "print(f\"The equation of the regression line is: {line_eq}\")\n",
    "print(f\"The r-squared is: {rvalue}\")"
   ]
  },
  {
   "cell_type": "markdown",
   "metadata": {},
   "source": [
    "There is no coorelation between wind speed and lat in the south. This makes sense. Wind speed would be related to coast line"
   ]
  }
 ],
 "metadata": {
  "anaconda-cloud": {},
  "kernel_info": {
   "name": "python3"
  },
  "kernelspec": {
   "display_name": "Python 3",
   "language": "python",
   "name": "python3"
  },
  "language_info": {
   "codemirror_mode": {
    "name": "ipython",
    "version": 3
   },
   "file_extension": ".py",
   "mimetype": "text/x-python",
   "name": "python",
   "nbconvert_exporter": "python",
   "pygments_lexer": "ipython3",
   "version": "3.7.4"
  },
  "latex_envs": {
   "LaTeX_envs_menu_present": true,
   "autoclose": false,
   "autocomplete": true,
   "bibliofile": "biblio.bib",
   "cite_by": "apalike",
   "current_citInitial": 1,
   "eqLabelWithNumbers": true,
   "eqNumInitial": 1,
   "hotkeys": {
    "equation": "Ctrl-E",
    "itemize": "Ctrl-I"
   },
   "labels_anchors": false,
   "latex_user_defs": false,
   "report_style_numbering": false,
   "user_envs_cfg": false
  },
  "nteract": {
   "version": "0.12.3"
  }
 },
 "nbformat": 4,
 "nbformat_minor": 2
}
